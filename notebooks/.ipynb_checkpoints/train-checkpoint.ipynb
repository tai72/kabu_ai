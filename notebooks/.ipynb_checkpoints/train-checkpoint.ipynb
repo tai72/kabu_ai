{
 "cells": [
  {
   "cell_type": "code",
   "execution_count": 102,
   "id": "5297c764",
   "metadata": {},
   "outputs": [],
   "source": [
    "import os\n",
    "import matplotlib.pyplot as plt\n",
    "import pandas as pd\n",
    "import numpy as np\n",
    "import xgboost as xgb\n",
    "import sklearn.metrics as metrics\n",
    "from xgboost import XGBRegressor\n",
    "from datetime import datetime\n",
    "from sklearn.model_selection import train_test_split"
   ]
  },
  {
   "cell_type": "code",
   "execution_count": 6,
   "id": "02b1b452",
   "metadata": {},
   "outputs": [],
   "source": [
    "# Warningを無効化\n",
    "import warnings\n",
    "warnings.simplefilter('ignore')"
   ]
  },
  {
   "cell_type": "markdown",
   "id": "780780d9",
   "metadata": {},
   "source": [
    "---\n",
    "# main()"
   ]
  },
  {
   "cell_type": "code",
   "execution_count": 64,
   "id": "7ef0fcce",
   "metadata": {},
   "outputs": [],
   "source": [
    "# 現在時刻の取得\n",
    "dt_now = datetime.now()"
   ]
  },
  {
   "cell_type": "code",
   "execution_count": 14,
   "id": "9e877e8e",
   "metadata": {},
   "outputs": [
    {
     "data": {
      "text/plain": [
       "'20230116-103828'"
      ]
     },
     "execution_count": 14,
     "metadata": {},
     "output_type": "execute_result"
    }
   ],
   "source": [
    "# ファイル名\n",
    "filename = dt_now.strftime('%Y%m%d-%H%M%S')\n",
    "filename"
   ]
  },
  {
   "cell_type": "code",
   "execution_count": 18,
   "id": "c13c1b79",
   "metadata": {},
   "outputs": [
    {
     "data": {
      "text/plain": [
       "'/Users/yamashitataichi/Desktop/development/kabu_ai/notebooks'"
      ]
     },
     "execution_count": 18,
     "metadata": {},
     "output_type": "execute_result"
    }
   ],
   "source": [
    "# 現在のディレクトリを取得\n",
    "cdir = os.getcwd()\n",
    "cdir"
   ]
  },
  {
   "cell_type": "code",
   "execution_count": 23,
   "id": "25abc037",
   "metadata": {},
   "outputs": [
    {
     "data": {
      "text/plain": [
       "'/Users/yamashitataichi/Desktop/development/kabu_ai/'"
      ]
     },
     "execution_count": 23,
     "metadata": {},
     "output_type": "execute_result"
    }
   ],
   "source": [
    "# ルートディレクトリを取得\n",
    "ROOT_PATH = cdir.replace('notebooks', '')\n",
    "ROOT_PATH"
   ]
  },
  {
   "cell_type": "code",
   "execution_count": 24,
   "id": "ac79291f",
   "metadata": {},
   "outputs": [
    {
     "data": {
      "text/plain": [
       "[]"
      ]
     },
     "execution_count": 24,
     "metadata": {},
     "output_type": "execute_result"
    }
   ],
   "source": [
    "# result内のファイル一覧を取得\n",
    "os.listdir(ROOT_PATH + 'data/result/')"
   ]
  },
  {
   "cell_type": "code",
   "execution_count": 77,
   "id": "4f371818",
   "metadata": {},
   "outputs": [
    {
     "data": {
      "text/html": [
       "<div>\n",
       "<style scoped>\n",
       "    .dataframe tbody tr th:only-of-type {\n",
       "        vertical-align: middle;\n",
       "    }\n",
       "\n",
       "    .dataframe tbody tr th {\n",
       "        vertical-align: top;\n",
       "    }\n",
       "\n",
       "    .dataframe thead th {\n",
       "        text-align: right;\n",
       "    }\n",
       "</style>\n",
       "<table border=\"1\" class=\"dataframe\">\n",
       "  <thead>\n",
       "    <tr style=\"text-align: right;\">\n",
       "      <th></th>\n",
       "      <th>timestamp</th>\n",
       "      <th>open</th>\n",
       "      <th>high</th>\n",
       "      <th>low</th>\n",
       "      <th>close</th>\n",
       "      <th>volume</th>\n",
       "      <th>datetime</th>\n",
       "    </tr>\n",
       "  </thead>\n",
       "  <tbody>\n",
       "    <tr>\n",
       "      <th>0</th>\n",
       "      <td>1642496400000</td>\n",
       "      <td>305.99</td>\n",
       "      <td>305.99</td>\n",
       "      <td>303.30</td>\n",
       "      <td>304.4000</td>\n",
       "      <td>0.0</td>\n",
       "      <td>2022-01-18 09:00:00</td>\n",
       "    </tr>\n",
       "    <tr>\n",
       "      <th>1</th>\n",
       "      <td>1642500000000</td>\n",
       "      <td>304.40</td>\n",
       "      <td>305.19</td>\n",
       "      <td>303.60</td>\n",
       "      <td>304.9500</td>\n",
       "      <td>0.0</td>\n",
       "      <td>2022-01-18 10:00:00</td>\n",
       "    </tr>\n",
       "    <tr>\n",
       "      <th>2</th>\n",
       "      <td>1642503600000</td>\n",
       "      <td>305.05</td>\n",
       "      <td>305.17</td>\n",
       "      <td>303.50</td>\n",
       "      <td>303.9900</td>\n",
       "      <td>0.0</td>\n",
       "      <td>2022-01-18 11:00:00</td>\n",
       "    </tr>\n",
       "    <tr>\n",
       "      <th>3</th>\n",
       "      <td>1642507200000</td>\n",
       "      <td>303.84</td>\n",
       "      <td>304.99</td>\n",
       "      <td>303.50</td>\n",
       "      <td>304.6000</td>\n",
       "      <td>0.0</td>\n",
       "      <td>2022-01-18 12:00:00</td>\n",
       "    </tr>\n",
       "    <tr>\n",
       "      <th>4</th>\n",
       "      <td>1642510800000</td>\n",
       "      <td>304.70</td>\n",
       "      <td>310.20</td>\n",
       "      <td>300.41</td>\n",
       "      <td>304.7901</td>\n",
       "      <td>0.0</td>\n",
       "      <td>2022-01-18 13:00:00</td>\n",
       "    </tr>\n",
       "  </tbody>\n",
       "</table>\n",
       "</div>"
      ],
      "text/plain": [
       "       timestamp    open    high     low     close  volume  \\\n",
       "0  1642496400000  305.99  305.99  303.30  304.4000     0.0   \n",
       "1  1642500000000  304.40  305.19  303.60  304.9500     0.0   \n",
       "2  1642503600000  305.05  305.17  303.50  303.9900     0.0   \n",
       "3  1642507200000  303.84  304.99  303.50  304.6000     0.0   \n",
       "4  1642510800000  304.70  310.20  300.41  304.7901     0.0   \n",
       "\n",
       "              datetime  \n",
       "0  2022-01-18 09:00:00  \n",
       "1  2022-01-18 10:00:00  \n",
       "2  2022-01-18 11:00:00  \n",
       "3  2022-01-18 12:00:00  \n",
       "4  2022-01-18 13:00:00  "
      ]
     },
     "execution_count": 77,
     "metadata": {},
     "output_type": "execute_result"
    }
   ],
   "source": [
    "# データ読み込み\n",
    "df = pd.read_csv(ROOT_PATH + 'data/data.csv')\n",
    "df.head()"
   ]
  },
  {
   "cell_type": "code",
   "execution_count": 78,
   "id": "ffac1951",
   "metadata": {},
   "outputs": [
    {
     "name": "stdout",
     "output_type": "stream",
     "text": [
      "<class 'pandas.core.frame.DataFrame'>\n",
      "RangeIndex: 4164 entries, 0 to 4163\n",
      "Data columns (total 7 columns):\n",
      " #   Column     Non-Null Count  Dtype  \n",
      "---  ------     --------------  -----  \n",
      " 0   timestamp  4164 non-null   int64  \n",
      " 1   open       4163 non-null   float64\n",
      " 2   high       4163 non-null   float64\n",
      " 3   low        4163 non-null   float64\n",
      " 4   close      4163 non-null   float64\n",
      " 5   volume     4163 non-null   float64\n",
      " 6   datetime   4164 non-null   object \n",
      "dtypes: float64(5), int64(1), object(1)\n",
      "memory usage: 227.8+ KB\n"
     ]
    }
   ],
   "source": [
    "df.info()"
   ]
  },
  {
   "cell_type": "code",
   "execution_count": 79,
   "id": "c5fbaba9",
   "metadata": {},
   "outputs": [],
   "source": [
    "# 欠損値を線形補完\n",
    "df = df.interpolate()"
   ]
  },
  {
   "cell_type": "code",
   "execution_count": 80,
   "id": "08ed3678",
   "metadata": {},
   "outputs": [
    {
     "data": {
      "text/plain": [
       "timestamp    0\n",
       "open         0\n",
       "high         0\n",
       "low          0\n",
       "close        0\n",
       "volume       0\n",
       "datetime     0\n",
       "dtype: int64"
      ]
     },
     "execution_count": 80,
     "metadata": {},
     "output_type": "execute_result"
    }
   ],
   "source": [
    "df.isna().sum()"
   ]
  },
  {
   "cell_type": "code",
   "execution_count": 94,
   "id": "92ed7970",
   "metadata": {},
   "outputs": [],
   "source": [
    "# テストデータセットを抽出\n",
    "df_index = df.index\n",
    "df_length = int(len(df_index) * 0.8)\n",
    "\n",
    "df_test = df.loc[df_index[df_length:]]\n",
    "df = df.drop(index=df_index[df_length:])"
   ]
  },
  {
   "cell_type": "code",
   "execution_count": 95,
   "id": "a0985eec",
   "metadata": {},
   "outputs": [],
   "source": [
    "# 説明変数と目的変数を分割\n",
    "X = df['open']\n",
    "y = df['close']"
   ]
  },
  {
   "cell_type": "code",
   "execution_count": 96,
   "id": "7e86edee",
   "metadata": {},
   "outputs": [],
   "source": [
    "# 学習データセット、検証データセットに分割\n",
    "X_train, X_valid, y_train, y_valid = train_test_split(X, y, test_size=0.3)"
   ]
  },
  {
   "cell_type": "code",
   "execution_count": 97,
   "id": "bd8a759d",
   "metadata": {},
   "outputs": [],
   "source": [
    "# モデルのインスタンス化\n",
    "model = XGBRegressor(\n",
    "    n_estimators=100, \n",
    "    learning_rate=0.05,     # この値が少ないほど学習期間が長くなる。PCのスペックがより必要。\n",
    "    eval_metric='logloss', \n",
    "    early_stopping_rounds=50, \n",
    ")"
   ]
  },
  {
   "cell_type": "code",
   "execution_count": 98,
   "id": "f93f1826",
   "metadata": {},
   "outputs": [
    {
     "name": "stdout",
     "output_type": "stream",
     "text": [
      "[13:43:35] WARNING: /Users/runner/miniforge3/conda-bld/xgboost-split_1645117899018/work/src/learner.cc:576: \n",
      "Parameters: { \"early_stopping_rounds\" } might not be used.\n",
      "\n",
      "  This could be a false alarm, with some parameters getting used by language bindings but\n",
      "  then being mistakenly passed down to XGBoost core, or some parameter actually being used\n",
      "  but getting flagged wrongly here. Please open an issue if you find any such cases.\n",
      "\n",
      "\n",
      "[0]\tvalidation_0-logloss:-9963.61426\n",
      "[1]\tvalidation_0-logloss:-9963.61426\n",
      "[2]\tvalidation_0-logloss:-9963.61426\n",
      "[3]\tvalidation_0-logloss:-9963.61426\n",
      "[4]\tvalidation_0-logloss:-9963.61426\n",
      "[5]\tvalidation_0-logloss:-9963.61426\n",
      "[6]\tvalidation_0-logloss:-9963.61426\n",
      "[7]\tvalidation_0-logloss:-9963.61426\n",
      "[8]\tvalidation_0-logloss:-9963.61426\n",
      "[9]\tvalidation_0-logloss:-9963.61426\n",
      "[10]\tvalidation_0-logloss:-9963.61426\n",
      "[11]\tvalidation_0-logloss:-9963.61426\n",
      "[12]\tvalidation_0-logloss:-9963.61426\n",
      "[13]\tvalidation_0-logloss:-9963.61426\n",
      "[14]\tvalidation_0-logloss:-9963.61426\n",
      "[15]\tvalidation_0-logloss:-9963.61426\n",
      "[16]\tvalidation_0-logloss:-9963.61426\n",
      "[17]\tvalidation_0-logloss:-9963.61426\n",
      "[18]\tvalidation_0-logloss:-9963.61426\n",
      "[19]\tvalidation_0-logloss:-9963.61426\n",
      "[20]\tvalidation_0-logloss:-9963.61426\n",
      "[21]\tvalidation_0-logloss:-9963.61426\n",
      "[22]\tvalidation_0-logloss:-9963.61426\n",
      "[23]\tvalidation_0-logloss:-9963.61426\n",
      "[24]\tvalidation_0-logloss:-9963.61426\n",
      "[25]\tvalidation_0-logloss:-9963.61426\n",
      "[26]\tvalidation_0-logloss:-9963.61426\n",
      "[27]\tvalidation_0-logloss:-9963.61426\n",
      "[28]\tvalidation_0-logloss:-9963.61426\n",
      "[29]\tvalidation_0-logloss:-9963.61426\n",
      "[30]\tvalidation_0-logloss:-9963.61426\n",
      "[31]\tvalidation_0-logloss:-9963.61426\n",
      "[32]\tvalidation_0-logloss:-9963.61426\n",
      "[33]\tvalidation_0-logloss:-9963.61426\n",
      "[34]\tvalidation_0-logloss:-9963.61426\n",
      "[35]\tvalidation_0-logloss:-9963.61426\n",
      "[36]\tvalidation_0-logloss:-9963.61426\n",
      "[37]\tvalidation_0-logloss:-9963.61426\n",
      "[38]\tvalidation_0-logloss:-9963.61426\n",
      "[39]\tvalidation_0-logloss:-9963.61426\n",
      "[40]\tvalidation_0-logloss:-9963.61426\n",
      "[41]\tvalidation_0-logloss:-9963.61426\n",
      "[42]\tvalidation_0-logloss:-9963.61426\n",
      "[43]\tvalidation_0-logloss:-9963.61426\n",
      "[44]\tvalidation_0-logloss:-9963.61426\n",
      "[45]\tvalidation_0-logloss:-9963.61426\n",
      "[46]\tvalidation_0-logloss:-9963.61426\n",
      "[47]\tvalidation_0-logloss:-9963.61426\n",
      "[48]\tvalidation_0-logloss:-9963.61426\n",
      "[49]\tvalidation_0-logloss:-9963.61426\n",
      "[50]\tvalidation_0-logloss:-9963.61426\n",
      "[51]\tvalidation_0-logloss:-9963.61426\n",
      "[52]\tvalidation_0-logloss:-9963.61426\n",
      "[53]\tvalidation_0-logloss:-9963.61426\n",
      "[54]\tvalidation_0-logloss:-9963.61426\n",
      "[55]\tvalidation_0-logloss:-9963.61426\n",
      "[56]\tvalidation_0-logloss:-9963.61426\n",
      "[57]\tvalidation_0-logloss:-9963.61426\n",
      "[58]\tvalidation_0-logloss:-9963.61426\n",
      "[59]\tvalidation_0-logloss:-9963.61426\n",
      "[60]\tvalidation_0-logloss:-9963.61426\n",
      "[61]\tvalidation_0-logloss:-9963.61426\n",
      "[62]\tvalidation_0-logloss:-9963.61426\n",
      "[63]\tvalidation_0-logloss:-9963.61426\n",
      "[64]\tvalidation_0-logloss:-9963.61426\n",
      "[65]\tvalidation_0-logloss:-9963.61426\n",
      "[66]\tvalidation_0-logloss:-9963.61426\n",
      "[67]\tvalidation_0-logloss:-9963.61426\n",
      "[68]\tvalidation_0-logloss:-9963.61426\n",
      "[69]\tvalidation_0-logloss:-9963.61426\n",
      "[70]\tvalidation_0-logloss:-9963.61426\n",
      "[71]\tvalidation_0-logloss:-9963.61426\n",
      "[72]\tvalidation_0-logloss:-9963.61426\n",
      "[73]\tvalidation_0-logloss:-9963.61426\n",
      "[74]\tvalidation_0-logloss:-9963.61426\n",
      "[75]\tvalidation_0-logloss:-9963.61426\n",
      "[76]\tvalidation_0-logloss:-9963.61426\n",
      "[77]\tvalidation_0-logloss:-9963.61426\n",
      "[78]\tvalidation_0-logloss:-9963.61426\n",
      "[79]\tvalidation_0-logloss:-9963.61426\n",
      "[80]\tvalidation_0-logloss:-9963.61426\n",
      "[81]\tvalidation_0-logloss:-9963.61426\n",
      "[82]\tvalidation_0-logloss:-9963.61426\n",
      "[83]\tvalidation_0-logloss:-9963.61426\n",
      "[84]\tvalidation_0-logloss:-9963.61426\n",
      "[85]\tvalidation_0-logloss:-9963.61426\n",
      "[86]\tvalidation_0-logloss:-9963.61426\n",
      "[87]\tvalidation_0-logloss:-9963.61426\n",
      "[88]\tvalidation_0-logloss:-9963.61426\n",
      "[89]\tvalidation_0-logloss:-9963.61426\n",
      "[90]\tvalidation_0-logloss:-9963.61426\n",
      "[91]\tvalidation_0-logloss:-9963.61426\n",
      "[92]\tvalidation_0-logloss:-9963.61426\n",
      "[93]\tvalidation_0-logloss:-9963.61426\n",
      "[94]\tvalidation_0-logloss:-9963.61426\n",
      "[95]\tvalidation_0-logloss:-9963.61426\n",
      "[96]\tvalidation_0-logloss:-9963.61426\n",
      "[97]\tvalidation_0-logloss:-9963.61426\n",
      "[98]\tvalidation_0-logloss:-9963.61426\n",
      "[99]\tvalidation_0-logloss:-9963.61426\n"
     ]
    },
    {
     "data": {
      "text/html": [
       "<style>#sk-container-id-2 {color: black;background-color: white;}#sk-container-id-2 pre{padding: 0;}#sk-container-id-2 div.sk-toggleable {background-color: white;}#sk-container-id-2 label.sk-toggleable__label {cursor: pointer;display: block;width: 100%;margin-bottom: 0;padding: 0.3em;box-sizing: border-box;text-align: center;}#sk-container-id-2 label.sk-toggleable__label-arrow:before {content: \"▸\";float: left;margin-right: 0.25em;color: #696969;}#sk-container-id-2 label.sk-toggleable__label-arrow:hover:before {color: black;}#sk-container-id-2 div.sk-estimator:hover label.sk-toggleable__label-arrow:before {color: black;}#sk-container-id-2 div.sk-toggleable__content {max-height: 0;max-width: 0;overflow: hidden;text-align: left;background-color: #f0f8ff;}#sk-container-id-2 div.sk-toggleable__content pre {margin: 0.2em;color: black;border-radius: 0.25em;background-color: #f0f8ff;}#sk-container-id-2 input.sk-toggleable__control:checked~div.sk-toggleable__content {max-height: 200px;max-width: 100%;overflow: auto;}#sk-container-id-2 input.sk-toggleable__control:checked~label.sk-toggleable__label-arrow:before {content: \"▾\";}#sk-container-id-2 div.sk-estimator input.sk-toggleable__control:checked~label.sk-toggleable__label {background-color: #d4ebff;}#sk-container-id-2 div.sk-label input.sk-toggleable__control:checked~label.sk-toggleable__label {background-color: #d4ebff;}#sk-container-id-2 input.sk-hidden--visually {border: 0;clip: rect(1px 1px 1px 1px);clip: rect(1px, 1px, 1px, 1px);height: 1px;margin: -1px;overflow: hidden;padding: 0;position: absolute;width: 1px;}#sk-container-id-2 div.sk-estimator {font-family: monospace;background-color: #f0f8ff;border: 1px dotted black;border-radius: 0.25em;box-sizing: border-box;margin-bottom: 0.5em;}#sk-container-id-2 div.sk-estimator:hover {background-color: #d4ebff;}#sk-container-id-2 div.sk-parallel-item::after {content: \"\";width: 100%;border-bottom: 1px solid gray;flex-grow: 1;}#sk-container-id-2 div.sk-label:hover label.sk-toggleable__label {background-color: #d4ebff;}#sk-container-id-2 div.sk-serial::before {content: \"\";position: absolute;border-left: 1px solid gray;box-sizing: border-box;top: 0;bottom: 0;left: 50%;z-index: 0;}#sk-container-id-2 div.sk-serial {display: flex;flex-direction: column;align-items: center;background-color: white;padding-right: 0.2em;padding-left: 0.2em;position: relative;}#sk-container-id-2 div.sk-item {position: relative;z-index: 1;}#sk-container-id-2 div.sk-parallel {display: flex;align-items: stretch;justify-content: center;background-color: white;position: relative;}#sk-container-id-2 div.sk-item::before, #sk-container-id-2 div.sk-parallel-item::before {content: \"\";position: absolute;border-left: 1px solid gray;box-sizing: border-box;top: 0;bottom: 0;left: 50%;z-index: -1;}#sk-container-id-2 div.sk-parallel-item {display: flex;flex-direction: column;z-index: 1;position: relative;background-color: white;}#sk-container-id-2 div.sk-parallel-item:first-child::after {align-self: flex-end;width: 50%;}#sk-container-id-2 div.sk-parallel-item:last-child::after {align-self: flex-start;width: 50%;}#sk-container-id-2 div.sk-parallel-item:only-child::after {width: 0;}#sk-container-id-2 div.sk-dashed-wrapped {border: 1px dashed gray;margin: 0 0.4em 0.5em 0.4em;box-sizing: border-box;padding-bottom: 0.4em;background-color: white;}#sk-container-id-2 div.sk-label label {font-family: monospace;font-weight: bold;display: inline-block;line-height: 1.2em;}#sk-container-id-2 div.sk-label-container {text-align: center;}#sk-container-id-2 div.sk-container {/* jupyter's `normalize.less` sets `[hidden] { display: none; }` but bootstrap.min.css set `[hidden] { display: none !important; }` so we also need the `!important` here to be able to override the default hidden behavior on the sphinx rendered scikit-learn.org. See: https://github.com/scikit-learn/scikit-learn/issues/21755 */display: inline-block !important;position: relative;}#sk-container-id-2 div.sk-text-repr-fallback {display: none;}</style><div id=\"sk-container-id-2\" class=\"sk-top-container\"><div class=\"sk-text-repr-fallback\"><pre>XGBRegressor(base_score=0.5, booster=&#x27;gbtree&#x27;, colsample_bylevel=1,\n",
       "             colsample_bynode=1, colsample_bytree=1, early_stopping_rounds=50,\n",
       "             enable_categorical=False, eval_metric=&#x27;logloss&#x27;, gamma=0,\n",
       "             gpu_id=-1, importance_type=None, interaction_constraints=&#x27;&#x27;,\n",
       "             learning_rate=0.05, max_delta_step=0, max_depth=6,\n",
       "             min_child_weight=1, missing=nan, monotone_constraints=&#x27;()&#x27;,\n",
       "             n_estimators=100, n_jobs=8, num_parallel_tree=1, predictor=&#x27;auto&#x27;,\n",
       "             random_state=0, reg_alpha=0, reg_lambda=1, scale_pos_weight=1,\n",
       "             subsample=1, tree_method=&#x27;exact&#x27;, validate_parameters=1,\n",
       "             verbosity=None)</pre><b>In a Jupyter environment, please rerun this cell to show the HTML representation or trust the notebook. <br />On GitHub, the HTML representation is unable to render, please try loading this page with nbviewer.org.</b></div><div class=\"sk-container\" hidden><div class=\"sk-item\"><div class=\"sk-estimator sk-toggleable\"><input class=\"sk-toggleable__control sk-hidden--visually\" id=\"sk-estimator-id-2\" type=\"checkbox\" checked><label for=\"sk-estimator-id-2\" class=\"sk-toggleable__label sk-toggleable__label-arrow\">XGBRegressor</label><div class=\"sk-toggleable__content\"><pre>XGBRegressor(base_score=0.5, booster=&#x27;gbtree&#x27;, colsample_bylevel=1,\n",
       "             colsample_bynode=1, colsample_bytree=1, early_stopping_rounds=50,\n",
       "             enable_categorical=False, eval_metric=&#x27;logloss&#x27;, gamma=0,\n",
       "             gpu_id=-1, importance_type=None, interaction_constraints=&#x27;&#x27;,\n",
       "             learning_rate=0.05, max_delta_step=0, max_depth=6,\n",
       "             min_child_weight=1, missing=nan, monotone_constraints=&#x27;()&#x27;,\n",
       "             n_estimators=100, n_jobs=8, num_parallel_tree=1, predictor=&#x27;auto&#x27;,\n",
       "             random_state=0, reg_alpha=0, reg_lambda=1, scale_pos_weight=1,\n",
       "             subsample=1, tree_method=&#x27;exact&#x27;, validate_parameters=1,\n",
       "             verbosity=None)</pre></div></div></div></div></div>"
      ],
      "text/plain": [
       "XGBRegressor(base_score=0.5, booster='gbtree', colsample_bylevel=1,\n",
       "             colsample_bynode=1, colsample_bytree=1, early_stopping_rounds=50,\n",
       "             enable_categorical=False, eval_metric='logloss', gamma=0,\n",
       "             gpu_id=-1, importance_type=None, interaction_constraints='',\n",
       "             learning_rate=0.05, max_delta_step=0, max_depth=6,\n",
       "             min_child_weight=1, missing=nan, monotone_constraints='()',\n",
       "             n_estimators=100, n_jobs=8, num_parallel_tree=1, predictor='auto',\n",
       "             random_state=0, reg_alpha=0, reg_lambda=1, scale_pos_weight=1,\n",
       "             subsample=1, tree_method='exact', validate_parameters=1,\n",
       "             verbosity=None)"
      ]
     },
     "execution_count": 98,
     "metadata": {},
     "output_type": "execute_result"
    }
   ],
   "source": [
    "# 学習\n",
    "eval_set = [(X_valid, y_valid)]\n",
    "model.fit(X_train, y_train, eval_set=eval_set, verbose=True)"
   ]
  },
  {
   "cell_type": "code",
   "execution_count": 99,
   "id": "c6dd366d",
   "metadata": {},
   "outputs": [],
   "source": [
    "# 予測\n",
    "X_test = df_test['open']\n",
    "y_test = df_test['close']\n",
    "\n",
    "y_pred = model.predict(X_test)"
   ]
  },
  {
   "cell_type": "code",
   "execution_count": 133,
   "id": "dbc4b687",
   "metadata": {},
   "outputs": [
    {
     "data": {
      "text/plain": [
       "6.851283374512999"
      ]
     },
     "execution_count": 133,
     "metadata": {},
     "output_type": "execute_result"
    }
   ],
   "source": [
    "# RMSE\n",
    "metrics.mean_squared_error(y_test, y_pred)"
   ]
  },
  {
   "cell_type": "code",
   "execution_count": 135,
   "id": "60740b27",
   "metadata": {},
   "outputs": [
    {
     "data": {
      "text/plain": [
       "0.9289928867808033"
      ]
     },
     "execution_count": 135,
     "metadata": {},
     "output_type": "execute_result"
    }
   ],
   "source": [
    "# 決定係数\n",
    "metrics.r2_score(y_test, y_pred)"
   ]
  },
  {
   "cell_type": "code",
   "execution_count": 134,
   "id": "99ec54db",
   "metadata": {},
   "outputs": [
    {
     "data": {
      "text/plain": [
       "<BarContainer object of 7 artists>"
      ]
     },
     "execution_count": 134,
     "metadata": {},
     "output_type": "execute_result"
    },
    {
     "data": {
      "image/png": "[encoded data removed]",
      "text/plain": [
       "<Figure size 640x480 with 1 Axes>"
      ]
     },
     "metadata": {},
     "output_type": "display_data"
    }
   ],
   "source": [
    "# importance\n",
    "model.feature_importances_\n",
    "plt.barh(df.columns, model.feature_importances_)"
   ]
  },
  {
   "cell_type": "code",
   "execution_count": 139,
   "id": "98117802",
   "metadata": {},
   "outputs": [
    {
     "data": {
      "text/plain": [
       "[<matplotlib.lines.Line2D at 0x12a00bca0>]"
      ]
     },
     "execution_count": 139,
     "metadata": {},
     "output_type": "execute_result"
    },
    {
     "data": {
      "image/png": "[encoded data removed]",
      "text/plain": [
       "<Figure size 1200x600 with 1 Axes>"
      ]
     },
     "metadata": {},
     "output_type": "display_data"
    }
   ],
   "source": [
    "# 可視化\n",
    "df_test['close_pred'] = y_pred\n",
    "\n",
    "fig, ax = plt.subplots(nrows=1, ncols=1, figsize=(12, 6))\n",
    "ax.plot(df_test['close'], color='#ea5972')\n",
    "ax.plot(df_test['close_pred'])"
   ]
  }
 ],
 "metadata": {
  "kernelspec": {
   "display_name": "Python 3 (ipykernel)",
   "language": "python",
   "name": "python3"
  },
  "language_info": {
   "codemirror_mode": {
    "name": "ipython",
    "version": 3
   },
   "file_extension": ".py",
   "mimetype": "text/x-python",
   "name": "python",
   "nbconvert_exporter": "python",
   "pygments_lexer": "ipython3",
   "version": "3.9.10"
  }
 },
 "nbformat": 4,
 "nbformat_minor": 5
}
