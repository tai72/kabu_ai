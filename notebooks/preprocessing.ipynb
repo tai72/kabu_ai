{
 "cells": [
  {
   "cell_type": "code",
   "execution_count": null,
   "id": "24c7c256",
   "metadata": {},
   "outputs": [],
   "source": [
    "import pandas as pd\n",
    "import numpy as np"
   ]
  },
  {
   "cell_type": "code",
   "execution_count": null,
   "id": "23fb1b05",
   "metadata": {},
   "outputs": [],
   "source": [
    "ROOT_DIR = '../'"
   ]
  },
  {
   "cell_type": "code",
   "execution_count": null,
   "id": "5758c4bc",
   "metadata": {},
   "outputs": [],
   "source": [
    "# データセット読み込み\n",
    "df = pd.read_csv(ROOT_DIR + 'data/data.csv')\n",
    "df.head(3)"
   ]
  },
  {
   "cell_type": "markdown",
   "id": "d188f45e",
   "metadata": {},
   "source": [
    "### 標準化"
   ]
  },
  {
   "cell_type": "code",
   "execution_count": null,
   "id": "86423ec9",
   "metadata": {},
   "outputs": [],
   "source": [
    "from sklearn.preprocessing import StandardScaler"
   ]
  },
  {
   "cell_type": "code",
   "execution_count": null,
   "id": "14e0a72d",
   "metadata": {},
   "outputs": [],
   "source": [
    "sscaler = StandardScaler()"
   ]
  },
  {
   "cell_type": "code",
   "execution_count": null,
   "id": "03ff5caa",
   "metadata": {},
   "outputs": [],
   "source": [
    "df['open'] = sscaler.fit_transform(df['open'].values.reshape(-1, 1))"
   ]
  },
  {
   "cell_type": "code",
   "execution_count": null,
   "id": "c9509c8f",
   "metadata": {},
   "outputs": [],
   "source": [
    "df['open'].plot(kind='bar')"
   ]
  }
 ],
 "metadata": {
  "kernelspec": {
   "display_name": "Python 3 (ipykernel)",
   "language": "python",
   "name": "python3"
  },
  "language_info": {
   "codemirror_mode": {
    "name": "ipython",
    "version": 3
   },
   "file_extension": ".py",
   "mimetype": "text/x-python",
   "name": "python",
   "nbconvert_exporter": "python",
   "pygments_lexer": "ipython3",
   "version": "3.9.10"
  }
 },
 "nbformat": 4,
 "nbformat_minor": 5
}
