{
 "cells": [
  {
   "cell_type": "code",
   "execution_count": null,
   "id": "42a0c6c2",
   "metadata": {},
   "outputs": [],
   "source": [
    "import sys\n",
    "import pandas as pd\n",
    "import datetime\n",
    "from yahoo_finance_api2 import share\n",
    "from yahoo_finance_api2.exceptions import YahooFinanceError"
   ]
  },
  {
   "cell_type": "code",
   "execution_count": null,
   "id": "5e5a4fbb",
   "metadata": {},
   "outputs": [],
   "source": [
    "\"\"\"\n",
    "datetimeはUTC表記 -> 日本時間にするためには9時間足す必要がある。\n",
    "データの遅延がどれくらいあるのかは分からない。\n",
    "\"\"\""
   ]
  },
  {
   "cell_type": "code",
   "execution_count": null,
   "id": "9a89aa7d",
   "metadata": {},
   "outputs": [],
   "source": [
    "my_share = share.Share('MSFT')\n",
    "symbol_data = None"
   ]
  },
  {
   "cell_type": "code",
   "execution_count": null,
   "id": "2ac207b1",
   "metadata": {},
   "outputs": [],
   "source": [
    "try:\n",
    "    symbol_data = my_share.get_historical(\n",
    "        share.PERIOD_TYPE_YEAR, 1, \n",
    "        share.FREQUENCY_TYPE_HOUR, 1\n",
    "    )\n",
    "except YahooFinanceError as e:\n",
    "    print(e.message)"
   ]
  },
  {
   "cell_type": "code",
   "execution_count": null,
   "id": "7aa61d0e",
   "metadata": {},
   "outputs": [],
   "source": [
    "df = pd.DataFrame(symbol_data)\n",
    "df"
   ]
  },
  {
   "cell_type": "code",
   "execution_count": null,
   "id": "227fcc5a",
   "metadata": {},
   "outputs": [],
   "source": [
    "# timestampを変換する\n",
    "df['datetime'] = pd.to_datetime(df['timestamp'], unit='ms')\n",
    "df"
   ]
  },
  {
   "cell_type": "code",
   "execution_count": null,
   "id": "dd2adab6",
   "metadata": {},
   "outputs": [],
   "source": [
    "# 出力\n",
    "df.to_csv('../data/data.csv', index=False)"
   ]
  },
  {
   "cell_type": "code",
   "execution_count": null,
   "id": "52cc5142",
   "metadata": {},
   "outputs": [],
   "source": [
    "# 日本時間に変更\n",
    "df['datetime_JST'] = df['datetime'] + datetime.timedelta(hours=9)\n",
    "df"
   ]
  }
 ],
 "metadata": {
  "kernelspec": {
   "display_name": "Python 3 (ipykernel)",
   "language": "python",
   "name": "python3"
  },
  "language_info": {
   "codemirror_mode": {
    "name": "ipython",
    "version": 3
   },
   "file_extension": ".py",
   "mimetype": "text/x-python",
   "name": "python",
   "nbconvert_exporter": "python",
   "pygments_lexer": "ipython3",
   "version": "3.9.10"
  }
 },
 "nbformat": 4,
 "nbformat_minor": 5
}
